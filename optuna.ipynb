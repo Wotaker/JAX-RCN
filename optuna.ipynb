{
 "cells": [
  {
   "cell_type": "code",
   "execution_count": null,
   "metadata": {},
   "outputs": [],
   "source": [
    "import optuna\n",
    "from optuna.trial import Trial\n",
    "import optuna.visualization as vis\n",
    "import numpy as np\n",
    "import jax.numpy as jnp\n",
    "import jax\n",
    "import pandas as pd\n",
    "import matplotlib.pyplot as plt\n",
    "import pyrcn\n",
    "from pyrcn.base.blocks import InputToNode, NodeToNode\n",
    "from sklearn.linear_model import Ridge\n",
    "from sklearn.metrics import mean_squared_error\n",
    "\n",
    "from chex import Array, Scalar\n",
    "from typing import Tuple\n",
    "\n",
    "from esn import ESN\n",
    "from utils import chunkify, plot_predictions\n",
    "\n",
    "key = jax.random.PRNGKey(43)"
   ]
  },
  {
   "cell_type": "markdown",
   "metadata": {},
   "source": [
    "# Data"
   ]
  },
  {
   "cell_type": "code",
   "execution_count": null,
   "metadata": {},
   "outputs": [],
   "source": [
    "N_SAMPLES = 10000\n",
    "SPLIT_RATIO = 0.8\n",
    "HISTORY_LEN = 10\n",
    "FORECAST_LEN = 1\n",
    "\n",
    "# Load from csv file\n",
    "mackey_data = jnp.squeeze(jnp.array(pd.read_csv(\"data/MackeyGlass_10k.csv\", index_col=0)))\n",
    "# mackey_data = jnp.linspace(-1, 1, n_samples)\n",
    "\n",
    "# Split into train-test\n",
    "split = int(SPLIT_RATIO * N_SAMPLES)\n",
    "mackey_train = mackey_data[:split]\n",
    "mackey_test = mackey_data[split:]\n",
    "\n",
    "# Plot\n",
    "plt.plot(jnp.arange(0, split, dtype=jnp.int32), mackey_train, label=\"train\")\n",
    "plt.plot(jnp.arange(split, N_SAMPLES, dtype=jnp.int32), mackey_test, label=\"test\")\n",
    "plt.legend()\n",
    "plt.show()\n",
    "\n",
    "# Split into input and output\n",
    "X_train, Y_train = chunkify(mackey_train, HISTORY_LEN, FORECAST_LEN)\n",
    "X_test, Y_test = chunkify(mackey_test, HISTORY_LEN, FORECAST_LEN)\n",
    "\n",
    "X_train_np, Y_train_np = np.array(X_train), np.array(Y_train)\n",
    "X_test_np, Y_test_np = np.array(X_test), np.array(Y_test)\n",
    "\n",
    "print(f\"X train-test shapes: {X_train.shape}\\t{X_test.shape}\")\n",
    "print(f\"Y train-test shapes: {Y_train.shape}\\t{Y_test.shape}\")"
   ]
  },
  {
   "cell_type": "markdown",
   "metadata": {},
   "source": [
    "# My ESN"
   ]
  },
  {
   "cell_type": "markdown",
   "metadata": {},
   "source": [
    "## Optuna Search "
   ]
  },
  {
   "cell_type": "code",
   "execution_count": null,
   "metadata": {},
   "outputs": [],
   "source": [
    "def objective(trial: Trial) -> Scalar:\n",
    "\n",
    "    # Define hyperparameters\n",
    "    hn = trial.suggest_int(\"hidden_nodes\", 10, 1000, log=True)\n",
    "    # si = trial.suggest_float(\"sparsity_in\", 0.0, 1.0)\n",
    "    # sn = trial.suggest_float(\"sparsity_node\", 0.0, 1.0)\n",
    "    # sr = trial.suggest_float(\"spectral_radius\", 0.0, 1.0)\n",
    "    l = trial.suggest_float(\"leakage\", 0.0, 1.0)\n",
    "    l2 = trial.suggest_float(\"l2_cost\", 0.1, 1000.0, log=True)\n",
    "\n",
    "    # Create the model\n",
    "    my_ESN = ESN(\n",
    "        jax.random.PRNGKey(72),\n",
    "        hidden_nodes=hn,\n",
    "        sparsity_in=1.0,\n",
    "        sparsity_node=1.0,\n",
    "        input_activation=lambda x: x,\n",
    "        node_activation=jax.nn.relu,\n",
    "        spectral_radius=1.0,\n",
    "        leakage=l,\n",
    "        l2_cost=l2\n",
    "    )\n",
    "\n",
    "    # Train and evaluate the model\n",
    "    my_ESN.fit(X_train, Y_train)\n",
    "    y_hat_train = my_ESN.predict(X_train)\n",
    "    mse_train = mean_squared_error(Y_train, y_hat_train)\n",
    "\n",
    "    return mse_train"
   ]
  },
  {
   "cell_type": "code",
   "execution_count": null,
   "metadata": {},
   "outputs": [],
   "source": [
    "study = optuna.create_study(direction=\"minimize\")\n",
    "study.optimize(objective, n_trials=100)"
   ]
  },
  {
   "cell_type": "code",
   "execution_count": null,
   "metadata": {},
   "outputs": [],
   "source": [
    "# Evaluating our Optuna Trial\n",
    "print(\"Best trial:\", study.best_trial.number)\n",
    "print(\"Best accuracy:\", study.best_trial.value)\n",
    "print(\"Best hyperparameters:\", study.best_params)"
   ]
  },
  {
   "cell_type": "code",
   "execution_count": null,
   "metadata": {},
   "outputs": [],
   "source": [
    "optimization_history_plot = vis.plot_optimization_history(study, error_bar=True)\n",
    "optimization_history_plot.show()"
   ]
  },
  {
   "cell_type": "code",
   "execution_count": null,
   "metadata": {},
   "outputs": [],
   "source": [
    "# Plotting a Contour Plot in Optuna\n",
    "contour_plot = vis.plot_contour(study, params=[\"hidden_nodes\"])\n",
    "contour_plot.show()"
   ]
  },
  {
   "cell_type": "markdown",
   "metadata": {},
   "source": [
    "## Evaluation"
   ]
  },
  {
   "cell_type": "code",
   "execution_count": null,
   "metadata": {},
   "outputs": [],
   "source": [
    "# Create the model\n",
    "my_ESN = ESN(\n",
    "    jax.random.PRNGKey(72),\n",
    "    hidden_nodes=14,\n",
    "    sparsity_in=1.0,\n",
    "    sparsity_node=1.0,\n",
    "    input_activation=lambda x: x,\n",
    "    node_activation=jax.nn.relu,\n",
    "    spectral_radius=1.0,\n",
    "    leakage=0.7867086239533064,\n",
    "    l2_cost=0.1800606845001689\n",
    ")\n",
    "\n",
    "# Train and evaluate the model\n",
    "my_ESN.fit(X_train, Y_train)\n",
    "y_hat_train = my_ESN.predict(X_train)\n",
    "mse_train = mean_squared_error(Y_train, y_hat_train)\n",
    "print(f\"MSE train: {mse_train}\")"
   ]
  },
  {
   "cell_type": "code",
   "execution_count": null,
   "metadata": {},
   "outputs": [],
   "source": [
    "X_train.shape, Y_train.shape, y_hat_train.shape"
   ]
  },
  {
   "cell_type": "code",
   "execution_count": null,
   "metadata": {},
   "outputs": [],
   "source": [
    "n_first = 1000\n",
    "plot_predictions(X_train[:, :n_first], Y_train[:, :n_first], y_hat_train[:, :n_first], HISTORY_LEN, FORECAST_LEN)"
   ]
  },
  {
   "cell_type": "markdown",
   "metadata": {},
   "source": [
    "# PyRCN"
   ]
  },
  {
   "cell_type": "markdown",
   "metadata": {},
   "source": [
    "## Optuna Search"
   ]
  },
  {
   "cell_type": "code",
   "execution_count": null,
   "metadata": {},
   "outputs": [],
   "source": [
    "def objective(trial: Trial) -> Scalar:\n",
    "\n",
    "    # Define hyperparameters\n",
    "    hn = trial.suggest_int(\"hidden_nodes\", 10, 1000, log=True)\n",
    "    # si = trial.suggest_float(\"sparsity_in\", 0.0, 1.0)\n",
    "    # sn = trial.suggest_float(\"sparsity_node\", 0.0, 1.0)\n",
    "    # sr = trial.suggest_float(\"spectral_radius\", 0.0, 1.0)\n",
    "    l = trial.suggest_float(\"leakage\", 0.0, 1.0)\n",
    "    l2 = trial.suggest_float(\"l2_cost\", 0.1, 1000.0, log=True)\n",
    "\n",
    "    # Create the model\n",
    "    input_to_node = InputToNode(\n",
    "        hidden_layer_size=hn,\n",
    "        k_in=None,\n",
    "        sparsity=1.0,\n",
    "        input_activation=\"identity\",\n",
    "    )\n",
    "    node_to_node = NodeToNode(\n",
    "        hidden_layer_size=hn,\n",
    "        sparsity=1.0,\n",
    "        reservoir_activation=\"tanh\",\n",
    "        spectral_radius=1.0,\n",
    "        leakage=l,\n",
    "        bidirectional=False\n",
    "    )\n",
    "\n",
    "    R_i2n = input_to_node.fit_transform(X_train_np.T)\n",
    "    R_n2n = node_to_node.fit_transform(R_i2n)\n",
    "    ridge_train = Ridge(alpha=l2).fit(R_n2n, np.squeeze(Y_train_np))\n",
    "\n",
    "    # Train and evaluate the model\n",
    "    y_hat_train_pyrcn = ridge_train.predict(R_n2n)\n",
    "    mse_train_pyrcn = mean_squared_error(Y_train.T, y_hat_train_pyrcn)\n",
    "\n",
    "    return mse_train_pyrcn"
   ]
  },
  {
   "cell_type": "code",
   "execution_count": null,
   "metadata": {},
   "outputs": [],
   "source": [
    "study_pyrcn = optuna.create_study(direction=\"minimize\")\n",
    "study_pyrcn.optimize(objective, n_trials=100, timeout=10)"
   ]
  },
  {
   "cell_type": "code",
   "execution_count": null,
   "metadata": {},
   "outputs": [],
   "source": [
    "# Evaluating our Optuna Trial\n",
    "print(\"Best trial:\", study_pyrcn.best_trial.number)\n",
    "print(\"Best accuracy:\", study_pyrcn.best_trial.value)\n",
    "print(\"Best hyperparameters:\", study_pyrcn.best_params)"
   ]
  },
  {
   "cell_type": "code",
   "execution_count": null,
   "metadata": {},
   "outputs": [],
   "source": [
    "contour_plot = vis.plot_contour(study_pyrcn, params=[\"hidden_nodes\", \"leakage\"])\n",
    "contour_plot.show()"
   ]
  },
  {
   "cell_type": "code",
   "execution_count": null,
   "metadata": {},
   "outputs": [],
   "source": []
  }
 ],
 "metadata": {
  "kernelspec": {
   "display_name": "sano",
   "language": "python",
   "name": "python3"
  },
  "language_info": {
   "codemirror_mode": {
    "name": "ipython",
    "version": 3
   },
   "file_extension": ".py",
   "mimetype": "text/x-python",
   "name": "python",
   "nbconvert_exporter": "python",
   "pygments_lexer": "ipython3",
   "version": "3.10.4"
  },
  "orig_nbformat": 4
 },
 "nbformat": 4,
 "nbformat_minor": 2
}
