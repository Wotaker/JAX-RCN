{
 "cells": [
  {
   "cell_type": "code",
   "execution_count": 3,
   "metadata": {},
   "outputs": [],
   "source": [
    "import matplotlib.pyplot as plt\n",
    "import pandas as pd\n",
    "import seaborn as sns\n",
    "import numpy as np\n",
    "from scipy.stats import t\n",
    "\n",
    "from typing import Tuple"
   ]
  },
  {
   "cell_type": "markdown",
   "metadata": {},
   "source": [
    "## Exec time vs N_SAMPLES"
   ]
  },
  {
   "cell_type": "code",
   "execution_count": 9,
   "metadata": {},
   "outputs": [],
   "source": [
    "def get_thr_ci(\n",
    "        data: pd.DataFrame,\n",
    "        column: str,\n",
    "        ci_interval: float = 0.95\n",
    ") -> Tuple[pd.Series, pd.Series, pd.Series]:\n",
    "\n",
    "    data = data.groupby([column])['Time']\n",
    "\n",
    "    measurements = data.count()\n",
    "    mean = data.mean()\n",
    "    std = data.std()\n",
    "\n",
    "    alpha = 1 - ci_interval\n",
    "    z = t.ppf(1 - alpha / 2, measurements - 1)\n",
    "\n",
    "    ci_low = mean - z * std / np.sqrt(measurements)\n",
    "    ci_high = mean + z * std / np.sqrt(measurements)\n",
    "\n",
    "    return mean, np.clip(ci_low, 0, np.inf), ci_high"
   ]
  },
  {
   "cell_type": "code",
   "execution_count": 12,
   "metadata": {},
   "outputs": [],
   "source": [
    "def time_vs_dataset_size(hidden_nodes: int):\n",
    "\n",
    "    df = pd.read_csv(\"all_results.csv\")\n",
    "    df = df[df[\"Hidden_Nodes\"] == hidden_nodes]\n",
    "    frameworks = df[\"Framework\"].unique()\n",
    "\n",
    "    fig, ax = plt.subplots(figsize=(10, 5))\n",
    "    for framework in frameworks:\n",
    "        mean, ci_low, ci_high = get_thr_ci(df[df.Framework == framework], \"N_Samples\")\n",
    "\n",
    "        ax.plot(mean.index, mean, marker='o', markersize=2, label=f\"{framework}\")\n",
    "        ax.fill_between(mean.index, ci_low, ci_high, alpha=0.3, linewidth=0.0)\n",
    "\n",
    "    plt.xlabel('Dataset Size')\n",
    "    plt.ylabel('Execution Time (s)')\n",
    "    plt.title(f'ESN with reservoir of size {hidden_nodes}')\n",
    "    plt.legend()\n",
    "    plt.grid()\n",
    "    plt.savefig(f\"exec-time_vs_dataset-size_{hidden_nodes}-hidden-nodes.pdf\", bbox_inches='tight')\n"
   ]
  },
  {
   "cell_type": "code",
   "execution_count": null,
   "metadata": {},
   "outputs": [],
   "source": []
  }
 ],
 "metadata": {
  "kernelspec": {
   "display_name": "sano",
   "language": "python",
   "name": "python3"
  },
  "language_info": {
   "codemirror_mode": {
    "name": "ipython",
    "version": 3
   },
   "file_extension": ".py",
   "mimetype": "text/x-python",
   "name": "python",
   "nbconvert_exporter": "python",
   "pygments_lexer": "ipython3",
   "version": "3.10.4"
  },
  "orig_nbformat": 4
 },
 "nbformat": 4,
 "nbformat_minor": 2
}
